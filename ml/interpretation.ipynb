{
 "cells": [
  {
   "cell_type": "markdown",
   "metadata": {},
   "source": [
    "# Interpretation\n",
    "\n",
    "- Telling a story with our findings"
   ]
  },
  {
   "cell_type": "code",
   "execution_count": 1,
   "metadata": {},
   "outputs": [],
   "source": [
    "import pandas as pd"
   ]
  },
  {
   "cell_type": "code",
   "execution_count": 2,
   "metadata": {},
   "outputs": [
    {
     "data": {
      "text/html": [
       "<div>\n",
       "<style scoped>\n",
       "    .dataframe tbody tr th:only-of-type {\n",
       "        vertical-align: middle;\n",
       "    }\n",
       "\n",
       "    .dataframe tbody tr th {\n",
       "        vertical-align: top;\n",
       "    }\n",
       "\n",
       "    .dataframe thead th {\n",
       "        text-align: right;\n",
       "    }\n",
       "</style>\n",
       "<table border=\"1\" class=\"dataframe\">\n",
       "  <thead>\n",
       "    <tr style=\"text-align: right;\">\n",
       "      <th></th>\n",
       "      <th>Unnamed: 0</th>\n",
       "      <th>home_train_mae</th>\n",
       "      <th>home_test_mae</th>\n",
       "      <th>away_train_mae</th>\n",
       "      <th>away_test_mae</th>\n",
       "      <th>dataset_path</th>\n",
       "      <th>home_model_path</th>\n",
       "      <th>away_model_path</th>\n",
       "      <th>test_size</th>\n",
       "    </tr>\n",
       "  </thead>\n",
       "  <tbody>\n",
       "    <tr>\n",
       "      <th>0</th>\n",
       "      <td>0</td>\n",
       "      <td>0.902589</td>\n",
       "      <td>0.955665</td>\n",
       "      <td>0.834772</td>\n",
       "      <td>0.945813</td>\n",
       "      <td>../data/trial_13/prem_data.csv</td>\n",
       "      <td>../data/trial_13/home_pipeline.joblib</td>\n",
       "      <td>../data/trial_13/away_pipeline.joblib</td>\n",
       "      <td>0.2</td>\n",
       "    </tr>\n",
       "  </tbody>\n",
       "</table>\n",
       "</div>"
      ],
      "text/plain": [
       "   Unnamed: 0  home_train_mae  home_test_mae  away_train_mae  away_test_mae  \\\n",
       "0           0        0.902589       0.955665        0.834772       0.945813   \n",
       "\n",
       "                     dataset_path                        home_model_path  \\\n",
       "0  ../data/trial_13/prem_data.csv  ../data/trial_13/home_pipeline.joblib   \n",
       "\n",
       "                         away_model_path  test_size  \n",
       "0  ../data/trial_13/away_pipeline.joblib        0.2  "
      ]
     },
     "execution_count": 2,
     "metadata": {},
     "output_type": "execute_result"
    }
   ],
   "source": [
    "pd.read_csv('../data/trial_13/hyperparameter_table.csv')"
   ]
  },
  {
   "cell_type": "code",
   "execution_count": null,
   "metadata": {},
   "outputs": [],
   "source": []
  }
 ],
 "metadata": {
  "kernelspec": {
   "display_name": "venv",
   "language": "python",
   "name": "python3"
  },
  "language_info": {
   "codemirror_mode": {
    "name": "ipython",
    "version": 3
   },
   "file_extension": ".py",
   "mimetype": "text/x-python",
   "name": "python",
   "nbconvert_exporter": "python",
   "pygments_lexer": "ipython3",
   "version": "3.12.3"
  }
 },
 "nbformat": 4,
 "nbformat_minor": 2
}
